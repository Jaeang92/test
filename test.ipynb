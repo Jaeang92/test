{
 "cells": [
  {
   "cell_type": "code",
   "execution_count": null,
   "metadata": {},
   "outputs": [],
   "source": [
    "# @echo off\n",
    "# cd F:\\prac_flask\n",
    "# set FLASK_APP=pybo\n",
    "# set FLASK_DEBUG=true\n",
    "# set APP_CONFIG_FILE=set APP_CONFIG_FILE=F:\\prac_flask\\config.py\n",
    "# F:\\ja\\flask\\flask_env\\Scripts\\activate"
   ]
  }
 ],
 "metadata": {
  "kernelspec": {
   "display_name": ".venv",
   "language": "python",
   "name": "python3"
  },
  "language_info": {
   "name": "python",
   "version": "3.10.11"
  }
 },
 "nbformat": 4,
 "nbformat_minor": 2
}
